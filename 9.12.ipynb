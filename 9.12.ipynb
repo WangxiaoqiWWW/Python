{
 "cells": [
  {
   "cell_type": "markdown",
   "metadata": {},
   "source": [
    "# 选择\n",
    "## 布尔类型、数值和表达式\n",
    "![](../Photo/33.png)\n",
    "- 注意：比较运算符的相等是两个等到，一个等到代表赋值\n",
    "- 在Python中可以用整型0来代表False，其他数字来代表True\n",
    "- 后面还会讲到 is 在判断语句中的用发"
   ]
  },
  {
   "cell_type": "code",
   "execution_count": 1,
   "metadata": {},
   "outputs": [
    {
     "data": {
      "text/plain": [
       "False"
      ]
     },
     "execution_count": 1,
     "metadata": {},
     "output_type": "execute_result"
    }
   ],
   "source": [
    "10 > 10"
   ]
  },
  {
   "cell_type": "code",
   "execution_count": 74,
   "metadata": {},
   "outputs": [
    {
     "data": {
      "text/plain": [
       "True"
      ]
     },
     "execution_count": 74,
     "metadata": {},
     "output_type": "execute_result"
    }
   ],
   "source": [
    "0==False"
   ]
  },
  {
   "cell_type": "code",
   "execution_count": 75,
   "metadata": {},
   "outputs": [
    {
     "data": {
      "text/plain": [
       "True"
      ]
     },
     "execution_count": 75,
     "metadata": {},
     "output_type": "execute_result"
    }
   ],
   "source": [
    "1==True"
   ]
  },
  {
   "cell_type": "markdown",
   "metadata": {},
   "source": [
    "## 字符串的比较使用ASCII值"
   ]
  },
  {
   "cell_type": "code",
   "execution_count": 6,
   "metadata": {},
   "outputs": [
    {
     "data": {
      "text/plain": [
       "False"
      ]
     },
     "execution_count": 6,
     "metadata": {},
     "output_type": "execute_result"
    }
   ],
   "source": [
    "'a' > 'b'"
   ]
  },
  {
   "cell_type": "code",
   "execution_count": 9,
   "metadata": {},
   "outputs": [
    {
     "name": "stdout",
     "output_type": "stream",
     "text": [
      ">>100\n",
      "成绩为A\n"
     ]
    }
   ],
   "source": [
    "score = eval(input('>>'))\n",
    "if score > 90:\n",
    "    print('成绩为A')\n",
    "elif 80 < score <= 90:\n",
    "    print('成绩为B')\n",
    "elif 70 < score <= 80:\n",
    "    print('成绩为C')\n",
    "elif 60 < score <= 70:\n",
    "    print('成绩为D')\n",
    "else  score <= 60:\n",
    "    print('成绩为E')"
   ]
  },
  {
   "cell_type": "markdown",
   "metadata": {},
   "source": [
    "## Markdown \n",
    "- https://github.com/younghz/Markdown"
   ]
  },
  {
   "cell_type": "markdown",
   "metadata": {},
   "source": [
    "## EP:\n",
    "- <img src=\"../Photo/34.png\"></img>\n",
    "- 输入一个数字，判断其实奇数还是偶数"
   ]
  },
  {
   "cell_type": "markdown",
   "metadata": {},
   "source": [
    "## 产生随机数字\n",
    "- 函数random.randint(a,b) 可以用来产生一个a和b之间且包括a和b的随机整数"
   ]
  },
  {
   "cell_type": "code",
   "execution_count": 65,
   "metadata": {},
   "outputs": [
    {
     "name": "stdout",
     "output_type": "stream",
     "text": [
      "输出的随机数为:1\n",
      "输入一个随机数：1\n",
      "满意。\n"
     ]
    }
   ],
   "source": [
    "import random\n",
    "res = random.randint(1,3)\n",
    "while True:\n",
    "    num = eval(input('输入一个随机数：'))\n",
    "    if num > res:\n",
    "        print('你输入的数太大了。')\n",
    "    elif num < res:\n",
    "        print('你输入的数太小了。')\n",
    "    else num == res:\n",
    "        print('满意。')\n",
    "        break"
   ]
  },
  {
   "cell_type": "markdown",
   "metadata": {},
   "source": [
    "##  其他random方法\n",
    "- random.random 返回0.0到1.0之间前闭后开区间的随机浮点\n",
    "- random.randrange(a,b) 前闭后开"
   ]
  },
  {
   "cell_type": "code",
   "execution_count": null,
   "metadata": {},
   "outputs": [],
   "source": [
    "import random"
   ]
  },
  {
   "cell_type": "code",
   "execution_count": 45,
   "metadata": {},
   "outputs": [
    {
     "data": {
      "text/plain": [
       "1"
      ]
     },
     "execution_count": 45,
     "metadata": {},
     "output_type": "execute_result"
    }
   ],
   "source": [
    "random.randrange(0,3,1)"
   ]
  },
  {
   "cell_type": "markdown",
   "metadata": {},
   "source": [
    "## EP：\n",
    "- 产生两个随机整数number1和number2，然后显示给用户，使用户输入数字的和，并判定其是否正确\n",
    "- 进阶:写一个随机序号点名程序"
   ]
  },
  {
   "cell_type": "code",
   "execution_count": 82,
   "metadata": {},
   "outputs": [
    {
     "name": "stdout",
     "output_type": "stream",
     "text": [
      "输入一个数：3\n",
      "完美！\n"
     ]
    }
   ],
   "source": [
    "import random\n",
    "res1 = random.randint(1,3)\n",
    "res2 = random.randint(1,3)\n",
    "sum_ = res1 + res2\n",
    "while True:\n",
    "    number_ = eval(input('输入一个数：'))\n",
    "    if number_ == sum_:\n",
    "        print('完美！')\n",
    "        break\n",
    "    else: \n",
    "        print('false')"
   ]
  },
  {
   "cell_type": "code",
   "execution_count": 19,
   "metadata": {},
   "outputs": [
    {
     "name": "stdout",
     "output_type": "stream",
     "text": [
      "李四\n"
     ]
    }
   ],
   "source": [
    "import random\n",
    "names = ['刘一','陈二','张三','李四','王五','赵六','孙七','周八','吴九','郑十']\n",
    "index = random.randint(0,len(names)-1)\n",
    "print(names[index])"
   ]
  },
  {
   "cell_type": "markdown",
   "metadata": {},
   "source": [
    "## if语句\n",
    "- 如果条件正确就执行一个单向if语句，亦即当条件为真的时候才执行if内部的语句\n",
    "- Python有很多选择语句:\n",
    "> - 单向if \n",
    "  - 双向if-else\n",
    "  - 嵌套if\n",
    "  - 多向if-elif-else\n",
    "  \n",
    "- 注意：当语句含有子语句的时候，那么一定至少要有一个缩进，也就是说如果有儿子存在，那么一定要缩进\n",
    "- 切记不可tab键和space混用，单用tab 或者 space\n",
    "- 当你输出的结果是无论if是否为真时都需要显示时，语句应该与if对齐"
   ]
  },
  {
   "cell_type": "code",
   "execution_count": 89,
   "metadata": {},
   "outputs": [
    {
     "name": "stdout",
     "output_type": "stream",
     "text": [
      "输入年龄：30\n",
      "输入长相：丑\n",
      "不见\n"
     ]
    }
   ],
   "source": [
    "age_ = eval(input('输入年龄：'))\n",
    "if age_ <= 30:\n",
    "    face_ = input('输入长相：')\n",
    "    if face_ == ('帅'):\n",
    "        pay_ = input('输入工资：')\n",
    "        if pay_ == ('中等'):\n",
    "            work_ = input('输入工作：')\n",
    "            if work_  == ('公务员'):\n",
    "                print('见')\n",
    "            else:\n",
    "                print('不见')\n",
    "        else:\n",
    "            print('不见')\n",
    "    else:\n",
    "        print('不见')\n",
    "else:\n",
    "    print('不见') "
   ]
  },
  {
   "cell_type": "markdown",
   "metadata": {},
   "source": [
    "## EP：\n",
    "- 用户输入一个数字，判断其实奇数还是偶数\n",
    "- 进阶：可以查看下4.5实例研究猜生日"
   ]
  },
  {
   "cell_type": "code",
   "execution_count": 90,
   "metadata": {},
   "outputs": [
    {
     "name": "stdout",
     "output_type": "stream",
     "text": [
      "输入一个数字：3\n",
      "3是奇数\n"
     ]
    }
   ],
   "source": [
    "shu = eval(input('输入一个数字：'))\n",
    "if shu % 2 == 0:\n",
    "    print(str(shu) + '是偶数')\n",
    "else:\n",
    "    print(str(shu) + '是奇数')"
   ]
  },
  {
   "cell_type": "markdown",
   "metadata": {},
   "source": [
    "## 双向if-else 语句\n",
    "- 如果条件为真，那么走if内部语句，否则走else内部语句"
   ]
  },
  {
   "cell_type": "markdown",
   "metadata": {},
   "source": [
    "## EP：\n",
    "- 产生两个随机整数number1和number2，然后显示给用户，使用户输入数字，并判定其是否正确,如果正确打印“you‘re correct”，否则打印正确错误"
   ]
  },
  {
   "cell_type": "markdown",
   "metadata": {},
   "source": [
    "## 嵌套if 和多向if-elif-else\n",
    "![](../Photo/35.png)"
   ]
  },
  {
   "cell_type": "markdown",
   "metadata": {},
   "source": [
    "## EP：\n",
    "- 提示用户输入一个年份，然后显示表示这一年的动物\n",
    "![](../Photo/36.png)\n",
    "- 计算身体质量指数的程序\n",
    "- BMI = 以千克为单位的体重除以以米为单位的身高\n",
    "![](../Photo/37.png)"
   ]
  },
  {
   "cell_type": "code",
   "execution_count": 117,
   "metadata": {},
   "outputs": [
    {
     "name": "stdout",
     "output_type": "stream",
     "text": [
      "输入一个年份： 1996\n",
      "鼠\n"
     ]
    }
   ],
   "source": [
    "year = eval(input('输入一个年份： '))\n",
    "nian = year % 12\n",
    "if nian != 0:\n",
    "        if nian !=1:\n",
    "            if nian !=2:\n",
    "                if nian !=3:\n",
    "                    if nian !=4:\n",
    "                        if nian !=5:\n",
    "                            if nian !=6:\n",
    "                                if nian != 7:\n",
    "                                    if nian !=8:\n",
    "                                        if nian !=9:\n",
    "                                            if nian !=10:\n",
    "                                                print('羊')\n",
    "                                            else:\n",
    "                                                print('马')\n",
    "                                        else:\n",
    "                                            print('蛇')\n",
    "                                    else:\n",
    "                                        print('龙')\n",
    "                                else:\n",
    "                                    print('兔')\n",
    "                            else:\n",
    "                                print('虎')\n",
    "                        else:\n",
    "                            print('牛')\n",
    "                    else:\n",
    "                        print('鼠')\n",
    "                else:\n",
    "                    print('猪')\n",
    "            else:\n",
    "                print('狗')\n",
    "        else:\n",
    "            print('鸡')\n",
    "else:\n",
    "    print('猴')"
   ]
  },
  {
   "cell_type": "code",
   "execution_count": 25,
   "metadata": {},
   "outputs": [
    {
     "name": "stdout",
     "output_type": "stream",
     "text": [
      "输入一个年份： 1996\n",
      "兔\n"
     ]
    }
   ],
   "source": [
    "'''import random\n",
    "year = eval(input('输入一个年份： '))\n",
    "nian_ = year % 12\n",
    "names = ['猴','鸡','狗','猪','鼠','牛','虎','兔','龙','蛇','马','羊']\n",
    "index = random.randint(0,len(names)-1)\n",
    "while True:\n",
    "    index == nian_\n",
    "    print(names[index])\n",
    "    break'''"
   ]
  },
  {
   "cell_type": "code",
   "execution_count": 99,
   "metadata": {},
   "outputs": [
    {
     "name": "stdout",
     "output_type": "stream",
     "text": [
      "请输入您的体重（kg）：72\n",
      "请输入您的身高（m）：1.7\n",
      "24.913494809688583标准\n"
     ]
    }
   ],
   "source": [
    "weight_ = eval(input('请输入您的体重（kg）：'))\n",
    "height_ = eval(input('请输入您的身高（m）：'))\n",
    "BIM_ = weight_ / height_ ** 2\n",
    "if BIM_ < 18.5:\n",
    "    print(str(BIM_) + '超轻')\n",
    "elif 18.5 <= BIM_ < 25.0:\n",
    "    print(str(BIM_) +'标准')\n",
    "elif 25.0 <= BIM_ < 30.0:\n",
    "    print(str(BIM_) +'超重')\n",
    "else 30.0 <= BIM_ :\n",
    "    print(str(BIM_) +'痴肥')"
   ]
  },
  {
   "cell_type": "markdown",
   "metadata": {},
   "source": [
    "## 逻辑运算符\n",
    "![](../Photo/38.png)"
   ]
  },
  {
   "cell_type": "code",
   "execution_count": 92,
   "metadata": {},
   "outputs": [
    {
     "data": {
      "text/plain": [
       "True"
      ]
     },
     "execution_count": 92,
     "metadata": {},
     "output_type": "execute_result"
    }
   ],
   "source": [
    "True and True"
   ]
  },
  {
   "cell_type": "code",
   "execution_count": 93,
   "metadata": {},
   "outputs": [
    {
     "data": {
      "text/plain": [
       "False"
      ]
     },
     "execution_count": 93,
     "metadata": {},
     "output_type": "execute_result"
    }
   ],
   "source": [
    "False and False"
   ]
  },
  {
   "cell_type": "code",
   "execution_count": 94,
   "metadata": {},
   "outputs": [
    {
     "data": {
      "text/plain": [
       "False"
      ]
     },
     "execution_count": 94,
     "metadata": {},
     "output_type": "execute_result"
    }
   ],
   "source": [
    "True and False"
   ]
  },
  {
   "cell_type": "code",
   "execution_count": 97,
   "metadata": {},
   "outputs": [
    {
     "data": {
      "text/plain": [
       "True"
      ]
     },
     "execution_count": 97,
     "metadata": {},
     "output_type": "execute_result"
    }
   ],
   "source": [
    "True or False"
   ]
  },
  {
   "cell_type": "code",
   "execution_count": 95,
   "metadata": {},
   "outputs": [
    {
     "data": {
      "text/plain": [
       "True"
      ]
     },
     "execution_count": 95,
     "metadata": {},
     "output_type": "execute_result"
    }
   ],
   "source": [
    "True or True"
   ]
  },
  {
   "cell_type": "code",
   "execution_count": 96,
   "metadata": {},
   "outputs": [
    {
     "data": {
      "text/plain": [
       "False"
      ]
     },
     "execution_count": 96,
     "metadata": {},
     "output_type": "execute_result"
    }
   ],
   "source": [
    "False or False"
   ]
  },
  {
   "cell_type": "markdown",
   "metadata": {},
   "source": [
    "![](../Photo/39.png)\n",
    "![](../Photo/40.png)"
   ]
  },
  {
   "cell_type": "markdown",
   "metadata": {},
   "source": [
    "## EP：\n",
    "- 判定闰年：一个年份如果能被4整除但不能被100整除，或者能被400整除，那么这个年份就是闰年\n",
    "- 提示用户输入一个年份，并返回是否是闰年\n",
    "- 提示用户输入一个数字，判断其是否为水仙花数"
   ]
  },
  {
   "cell_type": "code",
   "execution_count": 113,
   "metadata": {},
   "outputs": [
    {
     "name": "stdout",
     "output_type": "stream",
     "text": [
      "输入一个年份：1996\n",
      "1996 闰年\n"
     ]
    }
   ],
   "source": [
    "month_ = eval(input('输入一个年份：'))\n",
    "if (month_ % 4==0) and (month_ % 100 != 0) or (month_ % 400 == 0):\n",
    "    print(str(month_) + ' 闰年')\n",
    "else:\n",
    "    print(str(month_) + ' 不是闰年')"
   ]
  },
  {
   "cell_type": "code",
   "execution_count": 116,
   "metadata": {},
   "outputs": [
    {
     "name": "stdout",
     "output_type": "stream",
     "text": [
      "输入一个数：123\n",
      "36不是水仙花数\n"
     ]
    }
   ],
   "source": [
    "num1_ = eval(input('输入一个数：'))    #所谓“水仙花数”是指一个3位数，其各位数立方和等于该数本身\n",
    "bai = num1_ // 100\n",
    "shi = num1_ // 10 % 10\n",
    "ge = num1_ % 10\n",
    "res = bai**3 + shi**3 + ge**3\n",
    "if res == num1_:\n",
    "    print(str(res) + '是水仙花数')\n",
    "else:\n",
    "    print(str(res) + '不是水仙花数')"
   ]
  },
  {
   "cell_type": "markdown",
   "metadata": {},
   "source": [
    "## 实例研究：彩票\n",
    "![](../Photo/41.png)"
   ]
  },
  {
   "cell_type": "code",
   "execution_count": 128,
   "metadata": {},
   "outputs": [
    {
     "name": "stdout",
     "output_type": "stream",
     "text": [
      "59\n",
      "输入一个两位数：59\n",
      "恭喜你获得10000美元奖金！\n"
     ]
    }
   ],
   "source": [
    "import random\n",
    "random1 = random.randint(1,9)\n",
    "random2 = random.randint(0,9)\n",
    "random_ = str(random1) + str(random2)\n",
    "print(random_)\n",
    "input_num = input('输入一个两位数：')\n",
    "if input_num == random_:\n",
    "    print('恭喜你获得10000美元奖金！')\n",
    "elif (input_num[0] == random_[1]) and (input_num[1] == random_[0]):\n",
    "    print('恭喜你获得3000美元奖金！')\n",
    "elif (input_num[0] == random_[0])or(input_num[0] == random_[1])or(input_num[1] == random_[0])or(input_num[1] == random_[1]):\n",
    "    print('恭喜你获得1000美元奖金！')\n",
    "else:\n",
    "    print('很遗憾你没有中奖！')"
   ]
  },
  {
   "cell_type": "markdown",
   "metadata": {},
   "source": [
    "# Homework\n",
    "- 1\n",
    "![](../Photo/42.png)"
   ]
  },
  {
   "cell_type": "code",
   "execution_count": 140,
   "metadata": {},
   "outputs": [
    {
     "name": "stdout",
     "output_type": "stream",
     "text": [
      "请输入a,b,c的值：1,2.0,1\n",
      "判别式为零，有一个根r1和r2值相等为：-1.0\n"
     ]
    }
   ],
   "source": [
    "a,b,c=eval(input('请输入a,b,c的值：'))\n",
    "import math\n",
    "sel = b**2 - 4*a*c\n",
    "if sel > 0:\n",
    "    r1 = (-b + (math.sqrt(sel))) / (2*a)\n",
    "    r2 = (-b - (math.sqrt(sel))) / (2*a)\n",
    "    print('判别式为正，有两个根r1,r2为：' + str(r1)+ ' and '+str(r2))\n",
    "elif sel == 0:\n",
    "    r3 =  -b / (2*a)\n",
    "    print('判别式为零，有一个根r1和r2值相等为：' + str(r3))\n",
    "else:\n",
    "    print('The equation has no real roots')"
   ]
  },
  {
   "cell_type": "markdown",
   "metadata": {},
   "source": [
    "- 2\n",
    "![](../Photo/43.png)"
   ]
  },
  {
   "cell_type": "code",
   "execution_count": 3,
   "metadata": {},
   "outputs": [
    {
     "name": "stdout",
     "output_type": "stream",
     "text": [
      "随机产生两个数相加为：10 +  35\n",
      "输入这两个整数的和：45\n",
      "真\n"
     ]
    }
   ],
   "source": [
    "import random\n",
    "res1 = random.randint(0,100)\n",
    "res2 = random.randint(0,100)\n",
    "print('随机产生两个数相加为：' + str(res1) + ' +  ' + str(res2))\n",
    "while True:\n",
    "    number_ = eval(input('输入这两个整数的和：'))\n",
    "    sum_ = res1 + res2\n",
    "    if number_ == sum_:\n",
    "        print('真')\n",
    "        break\n",
    "    else: \n",
    "        print('假')"
   ]
  },
  {
   "cell_type": "markdown",
   "metadata": {},
   "source": [
    "- 3\n",
    "![](../Photo/44.png)"
   ]
  },
  {
   "cell_type": "code",
   "execution_count": 54,
   "metadata": {},
   "outputs": [
    {
     "name": "stdout",
     "output_type": "stream",
     "text": [
      "Enter today is day:3\n",
      "Enter the number of days elapsed since today:15\n",
      "Today is Wednesday and the future day is Thursday\n"
     ]
    }
   ],
   "source": [
    "day1=int(input('Enter today is day:'))\n",
    "day2=int(input('Enter the number of days elapsed since today:'))\n",
    "day3=(day1+day2)%7\n",
    "if day1==0:\n",
    "    day1='Sunday'\n",
    "elif day1==1:\n",
    "    day1='Monday'\n",
    "elif day1==2:\n",
    "    day1='Tuesday'\n",
    "elif day1==3:\n",
    "    day1='Wednesday'\n",
    "elif day1==4:\n",
    "    day1='Thursday'\n",
    "elif day1==5:\n",
    "    day1='Firday'\n",
    "elif day1==6:\n",
    "    day1='Saturday'\n",
    "if day3==0:\n",
    "    day3='Sunday'\n",
    "elif day3==1:\n",
    "    day3='Monday'\n",
    "elif day3==2:\n",
    "    day3='Tuesday'\n",
    "elif day3==3:\n",
    "    day3='Wednesday'\n",
    "elif day3==4:\n",
    "    day3='Thursday'\n",
    "elif day3==5:\n",
    "    day3='Firday'\n",
    "elif day3==6:\n",
    "    day3='Saturday'\n",
    "print('Today is',day1,'and the future day is',day3)"
   ]
  },
  {
   "cell_type": "markdown",
   "metadata": {},
   "source": [
    "- 4\n",
    "![](../Photo/45.png)"
   ]
  },
  {
   "cell_type": "code",
   "execution_count": 2,
   "metadata": {},
   "outputs": [
    {
     "name": "stdout",
     "output_type": "stream",
     "text": [
      "请输入三个整数：10,5,20\n",
      "5 10 20\n"
     ]
    }
   ],
   "source": [
    "x,y,z = eval(input('请输入三个整数：'))\n",
    "print(min(x,y,z),x+y+z-min(x,y,z)-max(x,y,z),max(x,y,z))"
   ]
  },
  {
   "cell_type": "markdown",
   "metadata": {},
   "source": [
    "- 5\n",
    "![](../Photo/46.png)"
   ]
  },
  {
   "cell_type": "code",
   "execution_count": 53,
   "metadata": {},
   "outputs": [
    {
     "name": "stdout",
     "output_type": "stream",
     "text": [
      "Enter weight and price for package 1:50,24.59\n",
      "Enter weight and price for package 2:25,11.99\n",
      "Package 1 has the better price.\n"
     ]
    }
   ],
   "source": [
    "weight_1,price_1 = eval(input('Enter weight and price for package 1:'))\n",
    "weight_2,price_2 = eval(input('Enter weight and price for package 2:'))\n",
    "if (price_1 / weight_1) > (price_2 / weight_2):\n",
    "    print('Package 1 has the better price.')\n",
    "else:\n",
    "    print('Package 2 has the better price.')"
   ]
  },
  {
   "cell_type": "markdown",
   "metadata": {},
   "source": [
    "- 6\n",
    "![](../Photo/47.png)"
   ]
  },
  {
   "cell_type": "code",
   "execution_count": 72,
   "metadata": {},
   "outputs": [
    {
     "name": "stdout",
     "output_type": "stream",
     "text": [
      "输入月份与年份2,2000\n",
      "2000 是平年 2 月有28天\n"
     ]
    }
   ],
   "source": [
    "month11,year11 = eval(input('输入月份与年份'))\n",
    "big = (1,3,5,7,8,10,12)\n",
    "small = (4,6,9,11)\n",
    "if (month11 in big):\n",
    "    print(year11,'年',month11,'月有31天')\n",
    "elif (month11 in small):\n",
    "    print(year11,'年',month11,'月有30天')\n",
    "else: \n",
    "    if (year11%4==0 and year11%100 !=0)or(year11//400==0):\n",
    "        print(year11,'是闰年',month11,'月有29天')\n",
    "    else:\n",
    "        print(year11,'是平年',month11,'月有28天')"
   ]
  },
  {
   "cell_type": "markdown",
   "metadata": {},
   "source": [
    "- 7\n",
    "![](../Photo/48.png)"
   ]
  },
  {
   "cell_type": "code",
   "execution_count": 1,
   "metadata": {},
   "outputs": [
    {
     "name": "stdout",
     "output_type": "stream",
     "text": [
      "显示硬币的正反(1表示正面，0表示反面)：0\n",
      "请用户输入一个猜测值(1表示正面，0表示反面)：0\n",
      "正确\n"
     ]
    }
   ],
   "source": [
    "import random\n",
    "zhengfan = random.randint(0,1)\n",
    "print('显示硬币的正反(1表示正面，0表示反面)：'+ str(zhengfan))\n",
    "zhi = eval(input('请用户输入一个猜测值(1表示正面，0表示反面)：'))\n",
    "if zhi == zhengfan:\n",
    "    print('正确')\n",
    "else:\n",
    "    print('错误')"
   ]
  },
  {
   "cell_type": "markdown",
   "metadata": {},
   "source": [
    "- 8\n",
    "![](../Photo/49.png)"
   ]
  },
  {
   "cell_type": "code",
   "execution_count": 52,
   "metadata": {},
   "outputs": [
    {
     "name": "stdout",
     "output_type": "stream",
     "text": [
      "scissor (0),rock(1),paper(2):1\n",
      "The computer is paper . You are  rock .You lost.\n"
     ]
    }
   ],
   "source": [
    "import random\n",
    "person=int(input('scissor (0),rock(1),paper(2):'))\n",
    "comp=random.randint(0,2)     \n",
    "if comp==0:\n",
    "    comp='scissor'\n",
    "    if person==0:\n",
    "        person='scissor'\n",
    "        print('The computer is',comp,'. You are ',person,'.too')    \n",
    "    elif person==1:\n",
    "        person='rock'\n",
    "        print('The computer is',comp,'. You are ',person,'.You won.') \n",
    "    elif person==2:\n",
    "        person='paper'\n",
    "        print('The computer is',comp,'. You are ',person,'.You lost.') \n",
    "elif comp==1:\n",
    "    comp='rock'\n",
    "    if person==0:\n",
    "        person='scissor'\n",
    "        print('The computer is',comp,'. You are ',person,'.You lost.')   \n",
    "    elif person==1:\n",
    "        person='rock'\n",
    "        print('The computer is',comp,'. You are ',person,'.too') \n",
    "    elif person==2:\n",
    "        person='paper'\n",
    "        print('The computer is',comp,'. You are ',person,'.You won.')        \n",
    "elif comp==2:\n",
    "    comp='paper'\n",
    "    if person==0:\n",
    "        person='scissor' \n",
    "        print('The computer is',comp,'. You are ',person,'.You won.')     \n",
    "    elif person==1:\n",
    "        person='rock'\n",
    "        print('The computer is',comp,'. You are ',person,'.You lost.')  \n",
    "    elif person==2:\n",
    "        person='paper'\n",
    "        print('The computer is',comp,'. You are ',person,'.too') "
   ]
  },
  {
   "cell_type": "markdown",
   "metadata": {},
   "source": [
    "- 9\n",
    "![](../Photo/50.png)"
   ]
  },
  {
   "cell_type": "code",
   "execution_count": 2,
   "metadata": {},
   "outputs": [
    {
     "name": "stdout",
     "output_type": "stream",
     "text": [
      "Enter year:2010\n",
      "Enter month:5\n",
      "Enter the day of the month:23\n"
     ]
    }
   ],
   "source": [
    "syears_ = eval(input('Enter year:'))\n",
    "m = eval(input('Enter month:'))\n",
    "q = eval(input('Enter the day of the month:'))\n",
    "k = syears_%100\n",
    "j = (syears_/100) // 1\n",
    "h = (q + (26*(m+1)/10) + k + k/4 + j/4 + 5*j ) % 7\n",
    "if h == 0:\n",
    "    h = 'Saturday'\n",
    "    print('Day of the week is ' + h)\n",
    "elif h == 1:\n",
    "    h = 'Sunday'\n",
    "    print('Day of the week is ' + h)\n",
    "elif h == 2:\n",
    "    h = 'Monday'\n",
    "    print('Day of the week is ' + h)\n",
    "elif h == 3:\n",
    "    h = 'Tuesday'\n",
    "    print('Day of the week is ' + h)\n",
    "elif h == 4:\n",
    "    h = 'Wednesday'\n",
    "    print('Day of the week is ' + h)\n",
    "elif h == 5:\n",
    "    h = 'Thursday'\n",
    "    print('Day of the week is ' + h)\n",
    "elif h == 6:\n",
    "    h = 'Firday'\n",
    "    print('Day of the week is ' + h)"
   ]
  },
  {
   "cell_type": "markdown",
   "metadata": {},
   "source": [
    "- 10\n",
    "![](../Photo/51.png)"
   ]
  },
  {
   "cell_type": "code",
   "execution_count": 102,
   "metadata": {},
   "outputs": [
    {
     "name": "stdout",
     "output_type": "stream",
     "text": [
      "The card you pick is the 9 of 梅花\n"
     ]
    }
   ],
   "source": [
    "import random\n",
    "string1_ = ['A','2','3','4','5','6','7','8','9','10','Jack','Queen','King']\n",
    "string2_ = ['梅花','红桃','方块','黑桃']\n",
    "index1 = random.randint(0,len(string1_)-1)\n",
    "index2 = random.randint(0,len(string2_)-1)\n",
    "print('The card you pick is the ' + string1_[index1] + ' of '+ string2_[index2])"
   ]
  },
  {
   "cell_type": "markdown",
   "metadata": {},
   "source": [
    "- 11\n",
    "![](../Photo/52.png)"
   ]
  },
  {
   "cell_type": "code",
   "execution_count": 48,
   "metadata": {},
   "outputs": [
    {
     "name": "stdout",
     "output_type": "stream",
     "text": [
      "请输入一个三位数字:123\n",
      "321 is not a pai=lindrome\n"
     ]
    }
   ],
   "source": [
    "n = int(input('请输入一个三位数字:'))\n",
    "shou = n // 100\n",
    "zhong = n // 10 % 10\n",
    "wei = n % 10 \n",
    "huiwen = wei*100 + zhong*10 + shou\n",
    "if shou == wei:\n",
    "    print(str(huiwen) + ' is a pai=lindrome')\n",
    "else:\n",
    "    print(str(huiwen) + ' is not a pai=lindrome')"
   ]
  },
  {
   "cell_type": "code",
   "execution_count": 41,
   "metadata": {},
   "outputs": [
    {
     "name": "stdout",
     "output_type": "stream",
     "text": [
      "请输入数字:123\n",
      "321这不是一个回文数\n"
     ]
    }
   ],
   "source": [
    "n = int(input('请输入数字:'))\n",
    "n = str(n)\n",
    "m = n[::-1]\n",
    "if n == m:\n",
    "    print(str(m) + ' 是一个回文数为')\n",
    "else:\n",
    "    print(str(m) + '这不是一个回文数')"
   ]
  },
  {
   "cell_type": "code",
   "execution_count": 42,
   "metadata": {},
   "outputs": [
    {
     "name": "stdout",
     "output_type": "stream",
     "text": [
      "ggdsfsda\n"
     ]
    }
   ],
   "source": [
    "a = 'adsfsdgg'    #字符串的反转\n",
    "m = a[::-1]\n",
    "print(m)"
   ]
  },
  {
   "cell_type": "markdown",
   "metadata": {},
   "source": [
    "- 12\n",
    "![](../Photo/53.png)"
   ]
  },
  {
   "cell_type": "code",
   "execution_count": 46,
   "metadata": {},
   "outputs": [
    {
     "name": "stdout",
     "output_type": "stream",
     "text": [
      "Enter three edges：6,5,3\n",
      "这个输入是合法的，则它的周长为：14\n"
     ]
    }
   ],
   "source": [
    "a,b,c = eval(input('Enter three edges：'))\n",
    "if (a + b) > c:\n",
    "    if (a + c) > b:\n",
    "        if (c + b) > a:\n",
    "            zhouchang = a + b + c\n",
    "            print('这个输入是合法的，则它的周长为：' + str(zhouchang))\n",
    "else:\n",
    "    print('这个输入是不合法的')"
   ]
  }
 ],
 "metadata": {
  "kernelspec": {
   "display_name": "Python 3",
   "language": "python",
   "name": "python3"
  },
  "language_info": {
   "codemirror_mode": {
    "name": "ipython",
    "version": 3
   },
   "file_extension": ".py",
   "mimetype": "text/x-python",
   "name": "python",
   "nbconvert_exporter": "python",
   "pygments_lexer": "ipython3",
   "version": "3.6.4"
  }
 },
 "nbformat": 4,
 "nbformat_minor": 2
}
